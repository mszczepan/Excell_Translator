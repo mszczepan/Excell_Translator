{
  "nbformat": 4,
  "nbformat_minor": 0,
  "metadata": {
    "colab": {
      "provenance": [],
      "authorship_tag": "ABX9TyNDkNWfRfej8zVoX9ob6MGT",
      "include_colab_link": true
    },
    "kernelspec": {
      "name": "python3",
      "display_name": "Python 3"
    },
    "language_info": {
      "name": "python"
    }
  },
  "cells": [
    {
      "cell_type": "markdown",
      "metadata": {
        "id": "view-in-github",
        "colab_type": "text"
      },
      "source": [
        "<a href=\"https://colab.research.google.com/github/mszczepan/Excell_Translator/blob/master/nowy/1_1_Miary_polozenia.ipynb\" target=\"_parent\"><img src=\"https://colab.research.google.com/assets/colab-badge.svg\" alt=\"Open In Colab\"/></a>"
      ]
    },
    {
      "cell_type": "markdown",
      "source": [
        "# Spis Treści\n",
        "1. [Miary położenia](#miary-położenia)\n",
        "2. [Średnia](#średnia)\n",
        "3. [Średnia ucinana](#średnia-ucinana)\n",
        "4. [Średnia ważona](#średnia-ucinana)\n",
        "5. [Mediana](#mediana)\n",
        "\n"
      ],
      "metadata": {
        "id": "3zhZJvaScexi"
      }
    },
    {
      "cell_type": "markdown",
      "source": [
        "\n",
        "#Miary położenia\n",
        "Podstawowym zadaniem w badaniach eksploracyjnych jest określenie \"typowych wartości\" dla każdej z cech: oszacowanie, gdzie zlokalizowana jest większość wartości analizowanych danych (tj.tendencji centralnej).\n",
        "<br>W zależności od charakterystyki danych podjęcie decyzji o wyborze odpowiedniej miary położenia jest sprawą indywidualną .Wybór miary centralnej zależy od konkretnego przypadku i celu analizy.\n",
        "Mogą mieć na to wpływ m.in skośność rozkładu oraz wartośći odstające.\n",
        "\n",
        "\n",
        "\n",
        "\n",
        "\n",
        "\n"
      ],
      "metadata": {
        "id": "CfXYwPURdygx"
      }
    },
    {
      "cell_type": "code",
      "source": [
        "#import danych state\n",
        "import pandas as pd\n",
        "import os\n",
        "print(os.getcwd())\n",
        "\n",
        "katalogi_i_pliki = os.listdir('sample_data')\n",
        "print(katalogi_i_pliki)\n",
        "\n",
        "#df = pd.read_csv('../state.csv')\n",
        "\n"
      ],
      "metadata": {
        "colab": {
          "base_uri": "https://localhost:8080/"
        },
        "id": "wdHg4V0ef42v",
        "outputId": "5d2631ee-c2f7-41b6-fec0-33bc307d0ca1"
      },
      "execution_count": null,
      "outputs": [
        {
          "output_type": "stream",
          "name": "stdout",
          "text": [
            "/content\n",
            "['anscombe.json', 'README.md', 'mnist_train_small.csv', 'california_housing_train.csv', 'mnist_test.csv', 'california_housing_test.csv']\n"
          ]
        }
      ]
    },
    {
      "cell_type": "markdown",
      "source": [
        "#Średnia\n",
        "\n",
        "\n"
      ],
      "metadata": {
        "id": "u8u0mIhEbEnP"
      }
    },
    {
      "cell_type": "markdown",
      "source": [
        "##Średnia\n",
        "Suma wszystkich wartości podzielona przez liczbę tych wartości.\n",
        "<br> Wzór na średnią:\n",
        "<br> $$\\bar{x} = \\frac{1}{n} \\sum_{i=1}^{n} x_i $$\n",
        "<br> n - to całkowita liczba przypadków\n",
        "<br> W statysyce N odnosi się do populacji a n do próby z populacji.\n",
        "<br> Średnia wykorzystuje wszystkie obserwacje w związku z tym jest bardzo wrażliwa na wartości odstające.\n",
        "<br> Zarówno wartości odstające jak i skrzywienie rozkładu mogą niegatywnie wpływać na średnią jako miarę tendencji centralnej. W przypadku tego typu sytuacji warto zastanowić się nad inną miarą położenia np. średnia ucinana lub mediana."
      ],
      "metadata": {
        "id": "agdylY0hgRmH"
      }
    }
  ]
}